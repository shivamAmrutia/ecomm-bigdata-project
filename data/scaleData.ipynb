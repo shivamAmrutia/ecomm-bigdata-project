{
 "cells": [
  {
   "cell_type": "code",
   "execution_count": 2,
   "metadata": {},
   "outputs": [],
   "source": [
    "import pandas as pd\n",
    "\n",
    "# Load dataset\n",
    "df = pd.read_csv(\"./2019-Nov.csv\")\n",
    "\n",
    "# Randomly sample ~20% of the data (since 1 GB is 1/5th of 5 GB)\n",
    "sampled_df = df.sample(frac=0.12, random_state=42)\n",
    "\n",
    "# Save new dataset\n",
    "sampled_df.to_csv(\"./scaledData-2019-Nov.csv\", index=False)\n"
   ]
  }
 ],
 "metadata": {
  "kernelspec": {
   "display_name": "Python 3.10.5 64-bit",
   "language": "python",
   "name": "python3"
  },
  "language_info": {
   "codemirror_mode": {
    "name": "ipython",
    "version": 3
   },
   "file_extension": ".py",
   "mimetype": "text/x-python",
   "name": "python",
   "nbconvert_exporter": "python",
   "pygments_lexer": "ipython3",
   "version": "3.10.5"
  },
  "orig_nbformat": 4,
  "vscode": {
   "interpreter": {
    "hash": "a1038a5e847933c0019329b0e0a849b51d1b8d0e8e35084f65728a6e48b58d44"
   }
  }
 },
 "nbformat": 4,
 "nbformat_minor": 2
}
