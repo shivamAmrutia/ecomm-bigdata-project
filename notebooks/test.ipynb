{
 "cells": [
  {
   "cell_type": "code",
   "execution_count": 1,
   "metadata": {},
   "outputs": [
    {
     "name": "stderr",
     "output_type": "stream",
     "text": [
      "2025/05/05 15:54:13 INFO mlflow.spark: File 'C:\\Users\\Karika\\mlruns\\1\\0e06a4dde11c44a8899fc9a81cb77871\\artifacts\\spark-model\\sparkml' is already on DFS, copy is not necessary.\n"
     ]
    },
    {
     "name": "stdout",
     "output_type": "stream",
     "text": [
      "[0.0, 0.0]\n"
     ]
    }
   ],
   "source": [
    "import mlflow.pyfunc\n",
    "import pandas as pd\n",
    "\n",
    "# 1) Point at the same tracking server (or local mlruns folder)\n",
    "mlflow.set_tracking_uri(\"http://localhost:5000\")\n",
    "# (or, if you were using the default on-disk mlruns, you can omit this)\n",
    "\n",
    "# 2) Construct the runs:/ URI with the run_id you saw in the UI:\n",
    "run_id = \"0e06a4dde11c44a8899fc9a81cb77871\"   # ← your actual run ID\n",
    "model_uri = f\"runs:/{run_id}/spark-model\"\n",
    "\n",
    "# 3) Load it as a python‐function model\n",
    "pyfunc_model = mlflow.pyfunc.load_model(model_uri)\n",
    "\n",
    "# 4) Prepare a pandas.DataFrame with the same input schema.\n",
    "#    (It must have a column named “features” containing lists/arrays.)\n",
    "pdf = pd.DataFrame({\n",
    "    \"features\": [\n",
    "        [1.0, 0.1, 0.5, 2.0],    # 4 entries\n",
    "        [2.0, 1.1, -1.5, 0.7],   # 4 entries\n",
    "    ]\n",
    "})\n",
    "\n",
    "# 5) Call .predict() and get back a pandas Series of predictions\n",
    "preds = pyfunc_model.predict(pdf)\n",
    "print(preds)\n"
   ]
  }
 ],
 "metadata": {
  "kernelspec": {
   "display_name": "Python 3",
   "language": "python",
   "name": "python3"
  },
  "language_info": {
   "codemirror_mode": {
    "name": "ipython",
    "version": 3
   },
   "file_extension": ".py",
   "mimetype": "text/x-python",
   "name": "python",
   "nbconvert_exporter": "python",
   "pygments_lexer": "ipython3",
   "version": "3.11.5"
  },
  "orig_nbformat": 4
 },
 "nbformat": 4,
 "nbformat_minor": 2
}
