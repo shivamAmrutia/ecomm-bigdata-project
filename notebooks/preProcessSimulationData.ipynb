{
 "cells": [
  {
   "cell_type": "code",
   "execution_count": 1,
   "metadata": {},
   "outputs": [],
   "source": [
    "from pyspark.sql import SparkSession\n",
    "from pathlib import Path\n",
    "\n",
    "# Setup sys.path to import from src/\n",
    "import sys\n",
    "import os\n",
    "sys.path.append(os.path.abspath(os.path.join(os.getcwd(), '..')))\n",
    "\n",
    "\n",
    "\n",
    "spark = (\n",
    "    SparkSession.builder\n",
    "        .appName(\"ChunkPreprocessor\")\n",
    "        .config(\"spark.executor.memory\", \"8g\") \n",
    "        .getOrCreate()\n",
    ")\n"
   ]
  },
  {
   "cell_type": "code",
   "execution_count": 2,
   "metadata": {},
   "outputs": [],
   "source": [
    "from src.preprocessing import load_data, clean_data, feature_engineer, assemble_features"
   ]
  },
  {
   "cell_type": "code",
   "execution_count": 10,
   "metadata": {},
   "outputs": [
    {
     "name": "stdout",
     "output_type": "stream",
     "text": [
      "+--------------------+---------+-------------+-------------+--------------------+--------------------+------------------+----------------+-------------+-----------------+--------------+\n",
      "|        user_session|num_views|num_cart_adds|num_purchases|       session_start|         session_end|         avg_price|session_duration|main_category|unique_categories|label_category|\n",
      "+--------------------+---------+-------------+-------------+--------------------+--------------------+------------------+----------------+-------------+-----------------+--------------+\n",
      "|000081ea-9376-4eb...|        1|            1|            1|2019-10-24T05:05:...|2019-10-24T05:08:...|            131.51|             194|  electronics|                1|   electronics|\n",
      "|000174ac-0ea3-402...|        6|            1|            2|2019-10-18T06:44:...|2019-10-18T06:46:...| 241.2244444444445|             115|  electronics|                1|   electronics|\n",
      "|0002b07c-85cd-46e...|       18|            2|            2|2019-10-14T05:14:...|2019-10-14T06:04:...| 154.0440909090909|            2981|  electronics|                1|   electronics|\n",
      "|0004400f-dc39-410...|        3|            1|            1|2019-10-16T01:22:...|2019-10-16T01:25:...|            143.63|             159|  electronics|                1|   electronics|\n",
      "|0004c309-ff34-44b...|        6|            1|            2|2019-10-13T07:53:...|2019-10-13T07:59:...| 156.8222222222222|             344|         kids|                2|          kids|\n",
      "|000941cc-a55d-4a5...|       10|            1|            1|2019-10-24T16:08:...|2019-10-24T16:22:...|284.37250000000006|             818|     medicine|                3|      medicine|\n",
      "|000a2754-1167-47c...|       21|            6|            1|2019-10-28T07:35:...|2019-10-28T07:59:...| 75.23642857142856|            1417|   appliances|                2|    appliances|\n",
      "|000a9525-b9a4-4cf...|        4|            0|            1|2019-10-07T12:50:...|2019-10-07T12:55:...| 99.15599999999998|             274|   appliances|                1|    appliances|\n",
      "|000cbc68-4323-4ba...|       19|            0|            1|2019-10-13T02:19:...|2019-10-13T02:36:...|108.34399999999998|            1068|   appliances|                1|    appliances|\n",
      "|000e2bba-bbf2-432...|        2|            1|            1|2019-10-10T04:51:...|2019-10-10T04:52:...|             88.81|              62|  electronics|                1|   electronics|\n",
      "|0010e63b-0333-4f6...|        5|            0|            1|2019-10-16T08:51:...|2019-10-16T08:57:...|            36.785|             369|         kids|                1|          kids|\n",
      "|00167766-6565-4b6...|        3|            1|            1|2019-10-30T04:47:...|2019-10-30T04:50:...|            385.83|             131|  electronics|                1|   electronics|\n",
      "|0016bf0d-cdc0-4d6...|        8|            0|            1|2019-10-17T07:10:...|2019-10-17T07:17:...|            246.25|             431|   appliances|                1|    appliances|\n",
      "|001868b0-06b7-40a...|        4|            2|            2|2019-10-20T12:11:...|2019-10-20T12:13:...|148.42499999999998|             149|  electronics|                1|   electronics|\n",
      "|001a1e22-7e00-4de...|        3|            2|            1|2019-10-14T04:56:...|2019-10-14T05:07:...|            434.73|             692|  electronics|                1|   electronics|\n",
      "|001baa62-ade8-40e...|        4|            0|            1|2019-10-30T06:44:...|2019-10-30T06:54:...| 975.5099999999999|             608|    computers|                2|     computers|\n",
      "|001c4f5a-ab44-45f...|       14|            0|            1|2019-10-12T05:34:...|2019-10-12T05:51:...|29.303333333333335|            1021|    computers|                1|     computers|\n",
      "|001de77d-9b9a-4c5...|        2|            4|            2|2019-10-28T11:59:...|2019-10-28T12:13:...|            130.99|             818|  electronics|                1|   electronics|\n",
      "|0021150f-8178-48f...|        7|            4|            2|2019-10-23T03:46:...|2019-10-23T03:52:...|420.02076923076936|             379|  electronics|                1|   electronics|\n",
      "|00221fd5-2324-442...|        1|            0|            1|2019-10-24T10:25:...|2019-10-24T10:32:...|            170.79|             397|  electronics|                1|   electronics|\n",
      "+--------------------+---------+-------------+-------------+--------------------+--------------------+------------------+----------------+-------------+-----------------+--------------+\n",
      "only showing top 20 rows\n",
      "\n"
     ]
    }
   ],
   "source": [
    "# Load raw dataset\n",
    "file_path = \"../data/streamingData/streamingData.csv\"\n",
    "raw_df = load_data(file_path, spark)"
   ]
  },
  {
   "cell_type": "code",
   "execution_count": 6,
   "metadata": {},
   "outputs": [
    {
     "data": {
      "text/plain": [
       "42448762"
      ]
     },
     "execution_count": 6,
     "metadata": {},
     "output_type": "execute_result"
    }
   ],
   "source": [
    "# Clean the dataset\n",
    "clean_df = clean_data(raw_df)\n",
    "\n",
    "# Quick check after cleaning\n",
    "# clean_df.show(5)\n",
    "clean_df.count()"
   ]
  },
  {
   "cell_type": "code",
   "execution_count": 7,
   "metadata": {},
   "outputs": [
    {
     "data": {
      "text/plain": [
       "483608"
      ]
     },
     "execution_count": 7,
     "metadata": {},
     "output_type": "execute_result"
    }
   ],
   "source": [
    "feature_df = feature_engineer(clean_df, True)\n",
    "\n",
    "# feature_df.show(5)\n",
    "feature_df.count()"
   ]
  },
  {
   "cell_type": "code",
   "execution_count": 8,
   "metadata": {},
   "outputs": [],
   "source": [
    "feature_df.coalesce(1).write.mode(\"overwrite\").option(\"header\", True).csv(\"../data/streamingData\")"
   ]
  }
 ],
 "metadata": {
  "kernelspec": {
   "display_name": "Python 3.10.5 64-bit",
   "language": "python",
   "name": "python3"
  },
  "language_info": {
   "codemirror_mode": {
    "name": "ipython",
    "version": 3
   },
   "file_extension": ".py",
   "mimetype": "text/x-python",
   "name": "python",
   "nbconvert_exporter": "python",
   "pygments_lexer": "ipython3",
   "version": "3.10.5"
  },
  "orig_nbformat": 4,
  "vscode": {
   "interpreter": {
    "hash": "a1038a5e847933c0019329b0e0a849b51d1b8d0e8e35084f65728a6e48b58d44"
   }
  }
 },
 "nbformat": 4,
 "nbformat_minor": 2
}
