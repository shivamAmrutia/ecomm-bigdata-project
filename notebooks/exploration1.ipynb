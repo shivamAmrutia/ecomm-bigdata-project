{
 "cells": [
  {
   "cell_type": "code",
   "execution_count": 1,
   "metadata": {},
   "outputs": [],
   "source": [
    "# Setup sys.path to import from src/\n",
    "import sys\n",
    "import os\n",
    "\n",
    "sys.path.append(os.path.abspath(os.path.join(os.getcwd(), '..')))"
   ]
  },
  {
   "cell_type": "code",
   "execution_count": 2,
   "metadata": {},
   "outputs": [],
   "source": [
    "# Spark session\n",
    "from pyspark.sql import SparkSession, functions as F\n",
    "\n",
    "# Import custom functions\n",
    "from src.preprocessing import load_data, clean_data, feature_engineer, assemble_features\n",
    "from src.save_outputs import save_predictions, save_feature_importances, save_model_metadata\n",
    "from src.model import train_random_forest, pick_best_model_from_grid, evaluate_model, manual_grid_search_rf, manual_grid_search_dt, manual_grid_search_gbt, manual_grid_search_lr, manual_grid_search_nb\n"
   ]
  },
  {
   "cell_type": "code",
   "execution_count": 3,
   "metadata": {},
   "outputs": [],
   "source": [
    "spark = SparkSession.builder \\\n",
    "    .appName(\"Ecommerce Behavior Exploration\") \\\n",
    "    .master(\"local[*]\") \\\n",
    "    .getOrCreate()\n"
   ]
  },
  {
   "cell_type": "code",
   "execution_count": 4,
   "metadata": {},
   "outputs": [
    {
     "name": "stdout",
     "output_type": "stream",
     "text": [
      "+--------------------+----------+----------+-------------------+--------------------+-------+------+---------+--------------------+\n",
      "|          event_time|event_type|product_id|        category_id|       category_code|  brand| price|  user_id|        user_session|\n",
      "+--------------------+----------+----------+-------------------+--------------------+-------+------+---------+--------------------+\n",
      "|2019-11-17 12:57:...|      view|   1005239|2053013555631882655|electronics.smart...| xiaomi| 262.3|517220397|294a6e27-97e1-4f6...|\n",
      "|2019-11-20 09:05:...|      view|   1004655|2053013555631882655|electronics.smart...|samsung|744.17|561605578|22682045-26c7-4e7...|\n",
      "|2019-11-17 03:40:...|      view|   1801653|2053013554415534427|electronics.video.tv|    tcl|539.47|530939266|d90cf77a-cba9-4fe...|\n",
      "|2019-11-14 09:29:...|      view|   1004250|2053013555631882655|electronics.smart...|  apple|778.36|571366119|b321c1d5-7de3-440...|\n",
      "|2019-11-20 20:16:...|      view|   7102014|2053013555464110485|furniture.bedroom...| chicco|308.86|549399394|8aebd283-412f-492...|\n",
      "+--------------------+----------+----------+-------------------+--------------------+-------+------+---------+--------------------+\n",
      "only showing top 5 rows\n",
      "\n",
      "root\n",
      " |-- event_time: string (nullable = true)\n",
      " |-- event_type: string (nullable = true)\n",
      " |-- product_id: string (nullable = true)\n",
      " |-- category_id: string (nullable = true)\n",
      " |-- category_code: string (nullable = true)\n",
      " |-- brand: string (nullable = true)\n",
      " |-- price: string (nullable = true)\n",
      " |-- user_id: string (nullable = true)\n",
      " |-- user_session: string (nullable = true)\n",
      "\n"
     ]
    }
   ],
   "source": [
    "# Load raw dataset\n",
    "file_path = \"../data/scaledData-2019-Nov.csv\"\n",
    "raw_df = load_data(file_path, spark)\n",
    "\n",
    "# Quick look at raw data\n",
    "raw_df.show(5)\n",
    "raw_df.printSchema()\n"
   ]
  },
  {
   "cell_type": "code",
   "execution_count": 5,
   "metadata": {},
   "outputs": [
    {
     "name": "stdout",
     "output_type": "stream",
     "text": [
      "+-------------------+----------+----------+-------------------+--------------------+-------+------+---------+--------------------+\n",
      "|         event_time|event_type|product_id|        category_id|       category_code|  brand| price|  user_id|        user_session|\n",
      "+-------------------+----------+----------+-------------------+--------------------+-------+------+---------+--------------------+\n",
      "|2019-11-17 07:57:11|      view|   1005239|2053013555631882655|electronics.smart...| xiaomi| 262.3|517220397|294a6e27-97e1-4f6...|\n",
      "|2019-11-20 04:05:49|      view|   1004655|2053013555631882655|electronics.smart...|samsung|744.17|561605578|22682045-26c7-4e7...|\n",
      "|2019-11-16 22:40:32|      view|   1801653|2053013554415534427|electronics.video.tv|    tcl|539.47|530939266|d90cf77a-cba9-4fe...|\n",
      "|2019-11-14 04:29:48|      view|   1004250|2053013555631882655|electronics.smart...|  apple|778.36|571366119|b321c1d5-7de3-440...|\n",
      "|2019-11-20 15:16:22|      view|   7102014|2053013555464110485|furniture.bedroom...| chicco|308.86|549399394|8aebd283-412f-492...|\n",
      "+-------------------+----------+----------+-------------------+--------------------+-------+------+---------+--------------------+\n",
      "only showing top 5 rows\n",
      "\n"
     ]
    }
   ],
   "source": [
    "# Clean the dataset\n",
    "clean_df = clean_data(raw_df)\n",
    "\n",
    "# Quick check after cleaning\n",
    "clean_df.show(5)\n"
   ]
  },
  {
   "cell_type": "code",
   "execution_count": 6,
   "metadata": {},
   "outputs": [
    {
     "name": "stdout",
     "output_type": "stream",
     "text": [
      "+--------------------+---------+-------------+-------------+-------------------+-------------------+------------------+----------------+\n",
      "|        user_session|num_views|num_cart_adds|num_purchases|      session_start|        session_end|         avg_price|session_duration|\n",
      "+--------------------+---------+-------------+-------------+-------------------+-------------------+------------------+----------------+\n",
      "|e7b1d62a-2052-417...|        1|            0|            0|2019-11-25 23:17:45|2019-11-25 23:17:45|             20.32|               0|\n",
      "|347a49d4-879c-40b...|        2|            0|            0|2019-11-16 06:55:01|2019-11-16 07:08:11|318.21000000000004|             790|\n",
      "|a8c4169c-f7c5-4ac...|        1|            0|            0|2019-11-18 08:10:00|2019-11-18 08:10:00|            167.06|               0|\n",
      "|5ea7b452-8a45-47a...|        3|            0|            0|2019-11-25 11:59:49|2019-11-25 12:19:57| 39.85333333333333|            1208|\n",
      "|55f2520f-972e-4c2...|        1|            0|            0|2019-11-16 07:50:50|2019-11-16 07:50:50|             246.3|               0|\n",
      "+--------------------+---------+-------------+-------------+-------------------+-------------------+------------------+----------------+\n",
      "only showing top 5 rows\n",
      "\n"
     ]
    }
   ],
   "source": [
    "# Create new features if needed\n",
    "feature_df = feature_engineer(clean_df)\n",
    "\n",
    "# Quick preview\n",
    "feature_df.show(5)\n"
   ]
  },
  {
   "cell_type": "code",
   "execution_count": 7,
   "metadata": {},
   "outputs": [],
   "source": [
    "labels = clean_df.groupBy(\"user_session\").agg(\n",
    "    (F.max(F.when(F.col(\"event_type\") == \"purchase\", 1).otherwise(0))).alias(\"label\")\n",
    ")\n",
    "\n",
    "final_df = feature_df.join(labels, on=\"user_session\", how=\"left\").fillna(0)\n"
   ]
  },
  {
   "cell_type": "code",
   "execution_count": 8,
   "metadata": {},
   "outputs": [],
   "source": [
    "# Feature columns you want to use\n",
    "feature_cols = ['num_views', 'num_cart_adds', 'session_duration', 'avg_price']\n",
    "\n",
    "# Assemble features\n",
    "final_df = assemble_features(final_df, feature_cols)"
   ]
  },
  {
   "cell_type": "code",
   "execution_count": 9,
   "metadata": {},
   "outputs": [],
   "source": [
    "train_df, test_df = final_df.randomSplit([0.8, 0.2], seed=42)"
   ]
  },
  {
   "cell_type": "code",
   "execution_count": null,
   "metadata": {},
   "outputs": [
    {
     "name": "stdout",
     "output_type": "stream",
     "text": [
      "🚀 Starting Manual Random Forest grid search with model saves...\n",
      "⏩ Skipping already trained: numTrees=50, maxDepth=5, maxBins=32\n",
      "⏩ Skipping already trained: numTrees=100, maxDepth=5, maxBins=32\n",
      "⏩ Skipping already trained: numTrees=200, maxDepth=5, maxBins=32\n",
      "⏩ Skipping already trained: numTrees=50, maxDepth=10, maxBins=32\n",
      "⏩ Skipping already trained: numTrees=100, maxDepth=10, maxBins=32\n",
      "🔵 Training: numTrees=200, maxDepth=10, maxBins=32\n"
     ]
    }
   ],
   "source": [
    "manual_grid_search_rf(train_df, test_df)"
   ]
  },
  {
   "cell_type": "code",
   "execution_count": null,
   "metadata": {},
   "outputs": [
    {
     "name": "stdout",
     "output_type": "stream",
     "text": [
      "🚀 Starting Manual Logistic Regression grid search...\n",
      "⏩ Skipping already trained: maxIter=50, regParam=0.0, elasticNetParam=0.0\n",
      "🔵 Training: maxIter=100, regParam=0.1, elasticNetParam=0.0\n",
      "🔹 AUC: 0.9579\n",
      "✅ Predictions saved: D:/ecomm-bigdata-project/output/lr/lr_100_0.1_0.0\\lr_100_0.1_0.0_predictions.csv\n",
      "✅ Model metadata saved: D:/ecomm-bigdata-project/output/lr/lr_100_0.1_0.0\\lr_100_0.1_0.0_metadata.json\n",
      "🔵 Training: maxIter=100, regParam=0.01, elasticNetParam=0.5\n"
     ]
    }
   ],
   "source": [
    "manual_grid_search_lr(train_df, test_df)"
   ]
  },
  {
   "cell_type": "code",
   "execution_count": null,
   "metadata": {},
   "outputs": [],
   "source": [
    "manual_grid_search_dt(train_df, test_df)"
   ]
  },
  {
   "cell_type": "code",
   "execution_count": null,
   "metadata": {},
   "outputs": [],
   "source": [
    "manual_grid_search_nb(train_df, test_df)"
   ]
  },
  {
   "cell_type": "code",
   "execution_count": null,
   "metadata": {},
   "outputs": [],
   "source": [
    "manual_grid_search_gbt(train_df, test_df)"
   ]
  },
  {
   "cell_type": "code",
   "execution_count": null,
   "metadata": {},
   "outputs": [],
   "source": [
    "base_rf_dir = \"D:/ecomm-bigdata-project/output/rf/\"\n",
    "results_csv_path = os.path.join(base_rf_dir, \"grid_search_results.csv\")\n",
    "\n",
    "best_model_outputs = pick_best_model_from_grid(results_csv_path, base_rf_dir)"
   ]
  }
 ],
 "metadata": {
  "kernelspec": {
   "display_name": "Python 3",
   "language": "python",
   "name": "python3"
  },
  "language_info": {
   "codemirror_mode": {
    "name": "ipython",
    "version": 3
   },
   "file_extension": ".py",
   "mimetype": "text/x-python",
   "name": "python",
   "nbconvert_exporter": "python",
   "pygments_lexer": "ipython3",
   "version": "3.11.5"
  },
  "orig_nbformat": 4
 },
 "nbformat": 4,
 "nbformat_minor": 2
}
